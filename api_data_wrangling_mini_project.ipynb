{
 "cells": [
  {
   "cell_type": "markdown",
   "metadata": {},
   "source": [
    "This exercise will require you to pull some data from the Qunadl API. Qaundl is currently the most widely used aggregator of financial market data."
   ]
  },
  {
   "cell_type": "markdown",
   "metadata": {},
   "source": [
    "As a first step, you will need to register a free account on the http://www.quandl.com website."
   ]
  },
  {
   "cell_type": "markdown",
   "metadata": {},
   "source": [
    "After you register, you will be provided with a unique API key, that you should store:"
   ]
  },
  {
   "cell_type": "code",
   "execution_count": 1,
   "metadata": {},
   "outputs": [],
   "source": [
    "# Store the API key as a string - according to PEP8, constants are always named in all upper case\n",
    "API_KEY = ''"
   ]
  },
  {
   "cell_type": "markdown",
   "metadata": {},
   "source": [
    "Qaundl has a large number of data sources, but, unfortunately, most of them require a Premium subscription. Still, there are also a good number of free datasets."
   ]
  },
  {
   "cell_type": "markdown",
   "metadata": {},
   "source": [
    "For this mini project, we will focus on equities data from the Frankfurt Stock Exhange (FSE), which is available for free. We'll try and analyze the stock prices of a company called Carl Zeiss Meditec, which manufactures tools for eye examinations, as well as medical lasers for laser eye surgery: https://www.zeiss.com/meditec/int/home.html. The company is listed under the stock ticker AFX_X."
   ]
  },
  {
   "cell_type": "markdown",
   "metadata": {},
   "source": [
    "You can find the detailed Quandl API instructions here: https://docs.quandl.com/docs/time-series"
   ]
  },
  {
   "cell_type": "markdown",
   "metadata": {},
   "source": [
    "While there is a dedicated Python package for connecting to the Quandl API, we would prefer that you use the *requests* package, which can be easily downloaded using *pip* or *conda*. You can find the documentation for the package here: http://docs.python-requests.org/en/master/ "
   ]
  },
  {
   "cell_type": "markdown",
   "metadata": {},
   "source": [
    "Finally, apart from the *requests* package, you are encouraged to not use any third party Python packages, such as *pandas*, and instead focus on what's available in the Python Standard Library (the *collections* module might come in handy: https://pymotw.com/3/collections/).\n",
    "Also, since you won't have access to DataFrames, you are encouraged to us Python's native data structures - preferably dictionaries, though some questions can also be answered using lists.\n",
    "You can read more on these data structures here: https://docs.python.org/3/tutorial/datastructures.html"
   ]
  },
  {
   "cell_type": "markdown",
   "metadata": {},
   "source": [
    "Keep in mind that the JSON responses you will be getting from the API map almost one-to-one to Python's dictionaries. Unfortunately, they can be very nested, so make sure you read up on indexing dictionaries in the documentation provided above."
   ]
  },
  {
   "cell_type": "code",
   "execution_count": 2,
   "metadata": {},
   "outputs": [],
   "source": [
    "# First, import the relevant modules\n",
    "import requests\n",
    "import json"
   ]
  },
  {
   "cell_type": "code",
   "execution_count": 14,
   "metadata": {},
   "outputs": [
    {
     "name": "stdout",
     "output_type": "stream",
     "text": [
      "limit\n",
      "transform\n",
      "column_index\n",
      "column_names\n",
      "start_date\n",
      "end_date\n",
      "frequency\n",
      "data\n",
      "collapse\n",
      "order\n",
      "2000-06-07\n",
      "2018-10-26\n",
      "['2018-10-26', None, 71.85, 69.9, 71.4, None, 117405.0, 8337937.0, None, None, None]\n"
     ]
    }
   ],
   "source": [
    "# Now, call the Quandl API and pull out a small sample of the data (only one day) to get a glimpse\n",
    "# into the JSON structure that will be returned\n",
    "url = \"http://www.quandl.com/api/v3/datasets/FSE/AFX_X/data.json?api_key=API_KEY\"\n",
    "\n",
    "r = requests.get(url)\n",
    "\n",
    "json_data = r.json()\n",
    "\n",
    "for k in json_data['dataset_data'].keys():\n",
    "    print(k)\n",
    "    \n",
    "print(json_data['dataset_data']['start_date'])\n",
    "print(json_data['dataset_data']['end_date'])\n",
    "print(json_data['dataset_data']['data'][0])"
   ]
  },
  {
   "cell_type": "code",
   "execution_count": 4,
   "metadata": {},
   "outputs": [],
   "source": [
    "# Inspect the JSON structure of the object you created, and take note of how nested it is,\n",
    "# as well as the overall structure\n"
   ]
  },
  {
   "cell_type": "markdown",
   "metadata": {},
   "source": [
    "These are your tasks for this mini project:\n",
    "\n",
    "1. Collect data from the Franfurt Stock Exchange, for the ticker AFX_X, for the whole year 2017 (keep in mind that the date format is YYYY-MM-DD).\n",
    "2. Convert the returned JSON object into a Python dictionary.\n",
    "3. Calculate what the highest and lowest opening prices were for the stock in this period.\n",
    "4. What was the largest change in any one day (based on High and Low price)?\n",
    "5. What was the largest change between any two days (based on Closing Price)?\n",
    "6. What was the average daily trading volume during this year?\n",
    "7. (Optional) What was the median trading volume during this year. (Note: you may need to implement your own function for calculating the median.)"
   ]
  },
  {
   "cell_type": "code",
   "execution_count": 5,
   "metadata": {},
   "outputs": [],
   "source": [
    "# 1.Collect data from the Franfurt Stock Exchange, for the ticker AFX_X, for the whole year 2017.\n",
    "\n",
    "url = \"http://www.quandl.com/api/v3/datasets/FSE/AFX_X/data.json?api_key=API_KEY&start_date=2017-01-01&end_date=2017-12-31\"\n",
    "\n",
    "r = requests.get(url)"
   ]
  },
  {
   "cell_type": "code",
   "execution_count": 6,
   "metadata": {},
   "outputs": [],
   "source": [
    "# 2.Convert the returned JSON object into a Python dictionary.\n",
    "json_data = r.json()"
   ]
  },
  {
   "cell_type": "code",
   "execution_count": 7,
   "metadata": {},
   "outputs": [
    {
     "name": "stdout",
     "output_type": "stream",
     "text": [
      "The highest opening price in 2017 is $53.11\n",
      "The lowest opening price in 2017 is $34.0\n"
     ]
    }
   ],
   "source": [
    "# 3. Calculate what the highest and lowest opening prices were for the stock in this period.\n",
    "\n",
    "# Create an empty list for opening prices\n",
    "opening_prices = []\n",
    "\n",
    "data = json_data['dataset_data']['data']   \n",
    "\n",
    "for day in range(len(data)):\n",
    "    op = data[day][1]\n",
    "    if op is not None:    #to exclude None value\n",
    "        opening_prices.append(op)\n",
    "\n",
    "print('The highest opening price in 2017 is $' + str(max(opening_prices)))\n",
    "print('The lowest opening price in 2017 is $' + str(min(opening_prices)))"
   ]
  },
  {
   "cell_type": "code",
   "execution_count": 8,
   "metadata": {},
   "outputs": [
    {
     "name": "stdout",
     "output_type": "stream",
     "text": [
      "The largest change is $ -2.8100000000000023 on 2017-05-11\n"
     ]
    }
   ],
   "source": [
    "# 4. What was the largest change in any one day (based on High and Low price)?\n",
    "\n",
    "# Create an empty list for change in one day\n",
    "sameday_change = []\n",
    "for day in range(len(data)):\n",
    "    change = abs(data[day][3] - data[day][2])\n",
    "    sameday_change.append(change)\n",
    "    if change >= max(sameday_change):\n",
    "        day_largestchange = day\n",
    "    \n",
    "print('The largest change is $', str(data[day_largestchange][3] - data[day_largestchange][2]), 'on', data[day_largestchange][0])"
   ]
  },
  {
   "cell_type": "code",
   "execution_count": 9,
   "metadata": {},
   "outputs": [
    {
     "name": "stdout",
     "output_type": "stream",
     "text": [
      "The largest change in two days is $ -2.559999999999995 from 2017-08-08 to 2017-08-09\n"
     ]
    }
   ],
   "source": [
    "#5.What was the largest change between any two days (based on Closing Price)?\n",
    "# Create an empty list for change in two days\n",
    "twoD_change = []\n",
    "for day in range(len(data)-1):\n",
    "    change = abs(data[day][4] - data[day+1][4])\n",
    "    twoD_change.append(change)\n",
    "    if change >= max(twoD_change):\n",
    "        twoD_Lchange = day\n",
    "\n",
    "print('The largest change in two days is $', str(data[twoD_Lchange][4] - data[twoD_Lchange+1][4]), 'from', data[twoD_Lchange+1][0], 'to', data[twoD_Lchange][0])"
   ]
  },
  {
   "cell_type": "code",
   "execution_count": 10,
   "metadata": {},
   "outputs": [
    {
     "name": "stdout",
     "output_type": "stream",
     "text": [
      "The average daily trading volume during this year is 89124.33725490196\n"
     ]
    }
   ],
   "source": [
    "#6. What was the average daily trading volume during this year?\n",
    "from statistics import mean \n",
    "# Create an empty list for daily trading volume\n",
    "dailyTVol = []\n",
    "for day in range(len(data)):\n",
    "    dailyTVol.append(data[day][6])\n",
    "\n",
    "print('The average daily trading volume during this year is ' + str(mean(dailyTVol)))"
   ]
  },
  {
   "cell_type": "code",
   "execution_count": 11,
   "metadata": {},
   "outputs": [
    {
     "name": "stdout",
     "output_type": "stream",
     "text": [
      "The median trading volume during this year is 76286.0\n"
     ]
    }
   ],
   "source": [
    "#7. (Optional) What was the median trading volume during this year. (Note: you may need to implement your own function for calculating the median.)\n",
    "\n",
    "from statistics import median \n",
    "print('The median trading volume during this year is ' + str(median(dailyTVol)))"
   ]
  }
 ],
 "metadata": {
  "kernelspec": {
   "display_name": "Python 3",
   "language": "python",
   "name": "python3"
  },
  "language_info": {
   "codemirror_mode": {
    "name": "ipython",
    "version": 3
   },
   "file_extension": ".py",
   "mimetype": "text/x-python",
   "name": "python",
   "nbconvert_exporter": "python",
   "pygments_lexer": "ipython3",
   "version": "3.6.5"
  }
 },
 "nbformat": 4,
 "nbformat_minor": 2
}
