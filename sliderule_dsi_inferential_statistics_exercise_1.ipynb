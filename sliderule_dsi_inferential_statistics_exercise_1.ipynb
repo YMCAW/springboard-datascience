{
 "cells": [
  {
   "cell_type": "markdown",
   "metadata": {},
   "source": [
    "# What is the True Normal Human Body Temperature? \n",
    "\n",
    "#### Background\n",
    "\n",
    "The mean normal body temperature was held to be 37$^{\\circ}$C or 98.6$^{\\circ}$F for more than 120 years since it was first conceptualized and reported by Carl Wunderlich in a famous 1868 book. But, is this value statistically correct?"
   ]
  },
  {
   "cell_type": "markdown",
   "metadata": {},
   "source": [
    "<h3>Exercises</h3>\n",
    "\n",
    "<p>In this exercise, you will analyze a dataset of human body temperatures and employ the concepts of hypothesis testing, confidence intervals, and statistical significance.</p>\n",
    "\n",
    "<p>Answer the following questions <b>in this notebook below and submit to your Github account</b>.</p> \n",
    "\n",
    "<ol>\n",
    "<li>  Is the distribution of body temperatures normal? \n",
    "    <ul>\n",
    "    <li> Although this is not a requirement for the Central Limit Theorem to hold (read the introduction on Wikipedia's page about the CLT carefully: https://en.wikipedia.org/wiki/Central_limit_theorem), it gives us some peace of mind that the population may also be normally distributed if we assume that this sample is representative of the population.\n",
    "    <li> Think about the way you're going to check for the normality of the distribution. Graphical methods are usually used first, but there are also other ways: https://en.wikipedia.org/wiki/Normality_test\n",
    "    </ul>\n",
    "<li>  Is the sample size large? Are the observations independent?\n",
    "    <ul>\n",
    "    <li> Remember that this is a condition for the Central Limit Theorem, and hence the statistical tests we are using, to apply.\n",
    "    </ul>\n",
    "<li>  Is the true population mean really 98.6 degrees F?\n",
    "    <ul>\n",
    "    <li> First, try a bootstrap hypothesis test.\n",
    "    <li> Now, let's try frequentist statistical testing. Would you use a one-sample or two-sample test? Why?\n",
    "    <li> In this situation, is it appropriate to use the $t$ or $z$ statistic? \n",
    "    <li> Now try using the other test. How is the result be different? Why?\n",
    "    </ul>\n",
    "<li>  Draw a small sample of size 10 from the data and repeat both frequentist tests. \n",
    "    <ul>\n",
    "    <li> Which one is the correct one to use? \n",
    "    <li> What do you notice? What does this tell you about the difference in application of the $t$ and $z$ statistic?\n",
    "    </ul>\n",
    "<li>  At what temperature should we consider someone's temperature to be \"abnormal\"?\n",
    "    <ul>\n",
    "    <li> As in the previous example, try calculating everything using the boostrap approach, as well as the frequentist approach.\n",
    "    <li> Start by computing the margin of error and confidence interval. When calculating the confidence interval, keep in mind that you should use the appropriate formula for one draw, and not N draws.\n",
    "    </ul>\n",
    "<li>  Is there a significant difference between males and females in normal temperature?\n",
    "    <ul>\n",
    "    <li> What testing approach did you use and why?\n",
    "    <li> Write a story with your conclusion in the context of the original problem.\n",
    "    </ul>\n",
    "</ol>\n",
    "\n",
    "You can include written notes in notebook cells using Markdown: \n",
    "   - In the control panel at the top, choose Cell > Cell Type > Markdown\n",
    "   - Markdown syntax: http://nestacms.com/docs/creating-content/markdown-cheat-sheet\n",
    "\n",
    "#### Resources\n",
    "\n",
    "+ Information and data sources: http://www.amstat.org/publications/jse/datasets/normtemp.txt, http://www.amstat.org/publications/jse/jse_data_archive.htm\n",
    "+ Markdown syntax: http://nestacms.com/docs/creating-content/markdown-cheat-sheet\n",
    "\n",
    "****"
   ]
  },
  {
   "cell_type": "code",
   "execution_count": 93,
   "metadata": {},
   "outputs": [
    {
     "data": {
      "text/html": [
       "<div>\n",
       "<style scoped>\n",
       "    .dataframe tbody tr th:only-of-type {\n",
       "        vertical-align: middle;\n",
       "    }\n",
       "\n",
       "    .dataframe tbody tr th {\n",
       "        vertical-align: top;\n",
       "    }\n",
       "\n",
       "    .dataframe thead th {\n",
       "        text-align: right;\n",
       "    }\n",
       "</style>\n",
       "<table border=\"1\" class=\"dataframe\">\n",
       "  <thead>\n",
       "    <tr style=\"text-align: right;\">\n",
       "      <th></th>\n",
       "      <th>temperature</th>\n",
       "      <th>gender</th>\n",
       "      <th>heart_rate</th>\n",
       "    </tr>\n",
       "  </thead>\n",
       "  <tbody>\n",
       "    <tr>\n",
       "      <th>0</th>\n",
       "      <td>99.3</td>\n",
       "      <td>F</td>\n",
       "      <td>68.0</td>\n",
       "    </tr>\n",
       "    <tr>\n",
       "      <th>1</th>\n",
       "      <td>98.4</td>\n",
       "      <td>F</td>\n",
       "      <td>81.0</td>\n",
       "    </tr>\n",
       "    <tr>\n",
       "      <th>2</th>\n",
       "      <td>97.8</td>\n",
       "      <td>M</td>\n",
       "      <td>73.0</td>\n",
       "    </tr>\n",
       "    <tr>\n",
       "      <th>3</th>\n",
       "      <td>99.2</td>\n",
       "      <td>F</td>\n",
       "      <td>66.0</td>\n",
       "    </tr>\n",
       "    <tr>\n",
       "      <th>4</th>\n",
       "      <td>98.0</td>\n",
       "      <td>F</td>\n",
       "      <td>73.0</td>\n",
       "    </tr>\n",
       "  </tbody>\n",
       "</table>\n",
       "</div>"
      ],
      "text/plain": [
       "   temperature gender  heart_rate\n",
       "0         99.3      F        68.0\n",
       "1         98.4      F        81.0\n",
       "2         97.8      M        73.0\n",
       "3         99.2      F        66.0\n",
       "4         98.0      F        73.0"
      ]
     },
     "execution_count": 93,
     "metadata": {},
     "output_type": "execute_result"
    }
   ],
   "source": [
    "import pandas as pd\n",
    "\n",
    "df = pd.read_csv('/Users/ming/Downloads/EDA_human_temperature/data/human_body_temperature.csv')\n",
    "df.head()"
   ]
  },
  {
   "cell_type": "code",
   "execution_count": 171,
   "metadata": {},
   "outputs": [
    {
     "data": {
      "image/png": "[encoded data removed]",
      "text/plain": [
       "<Figure size 432x288 with 1 Axes>"
      ]
     },
     "metadata": {},
     "output_type": "display_data"
    },
    {
     "name": "stdout",
     "output_type": "stream",
     "text": [
      "As shown in the plot, the body temperatures data is approximately normally distributed.\n"
     ]
    }
   ],
   "source": [
    "#1.Is the distribution of body temperatures normal?\n",
    "\n",
    "def ecdf(data):\n",
    "    \"\"\"Compute ECDF for a one-dimensional array of measurements.\"\"\"\n",
    "    # Number of data points: n\n",
    "    n = len(data)\n",
    "\n",
    "    # x-data for the ECDF: x\n",
    "    x = np.sort(data)\n",
    "\n",
    "    # y-data for the ECDF: y\n",
    "    y = np.arange(1, n+1) / n\n",
    "\n",
    "    return x, y\n",
    "\n",
    "import numpy as np\n",
    "import matplotlib.pyplot as plt\n",
    "import seaborn as sns\n",
    "\n",
    "mean = np.mean(df.temperature)\n",
    "std = np.std(df.temperature)\n",
    "samples = np.random.normal(mean, std, size=10000)\n",
    "x, y = ecdf(df.temperature)\n",
    "x_theor, y_theor = ecdf(samples)\n",
    "\n",
    "sns.set()\n",
    "_ = plt.plot(x_theor, y_theor)\n",
    "_ = plt.plot(x, y, marker='.', linestyle='none')\n",
    "_ = plt.xlabel('body temperature')\n",
    "_ = plt.ylabel('cdf')\n",
    "plt.show()\n",
    "\n",
    "print('As shown in the plot, the body temperatures data is approximately normally distributed.')"
   ]
  },
  {
   "cell_type": "code",
   "execution_count": 95,
   "metadata": {},
   "outputs": [
    {
     "name": "stdout",
     "output_type": "stream",
     "text": [
      "The sample size is 130. Based on 10% rule, since the sample size is less than 10% of the population, we can assume the observations are independent.\n"
     ]
    }
   ],
   "source": [
    "#2. Is the sample size large? Are the observations independent?\n",
    "print('The sample size is ' + str(len(df)) + '. Based on 10% rule, since the sample size is less than 10% of the population, we can assume the observations are independent.')"
   ]
  },
  {
   "cell_type": "code",
   "execution_count": 150,
   "metadata": {},
   "outputs": [
    {
     "data": {
      "image/png": "[encoded data removed]",
      "text/plain": [
       "<Figure size 432x288 with 1 Axes>"
      ]
     },
     "metadata": {},
     "output_type": "display_data"
    },
    {
     "name": "stdout",
     "output_type": "stream",
     "text": [
      "Bootstrap mean: 98.24982207692308\n",
      "95% Confidence Interval: [98.12384615 98.37692308]\n",
      "p-value: 0.0\n",
      "z-statistic:  -5.475925202078116  p-value:  4.352315174926957e-08\n",
      "t-statistic:  -5.475925202078116  p-value:  2.1887464618508545e-07\n",
      "All p values are smaller than 0.05. Null hypothesis should be rejected such that the population mean is unlikely to be 98.6 degrees F.\n"
     ]
    }
   ],
   "source": [
    "#3. Is the true population mean really 98.6 degrees F?\n",
    "\n",
    "# To try bootstrap hypothesis test with 10,000 replicates\n",
    "# H0: True population mean body temperature = 98.6 degrees F\n",
    "# H1: True population mean body temperature != 98.6 degrees F\n",
    "# Significant _Level = 0.05\n",
    "\n",
    "def bootstrap_replicate(data, func):\n",
    "    \"\"\"Generate bootstrap replicate of data.\"\"\"\n",
    "    bs_sample = np.random.choice(data, size=len(data))\n",
    "    return func(bs_sample)\n",
    "\n",
    "bs_replicates = np.empty(10000)\n",
    "\n",
    "for i in range(10000):\n",
    "    bs_replicates[i] = bootstrap_replicate(df.temperature, np.mean)\n",
    "    \n",
    "_ = plt.hist(bs_replicates, bins=30, density=True)\n",
    "_ = plt.xlabel('mean body temperature (degrees F)')\n",
    "_ = plt.ylabel('PDF')\n",
    "plt.show()\n",
    "\n",
    "confidence_interval = np.percentile(bs_replicates, [2.5, 97.5])\n",
    "p_value = sum(bs_replicates >= 98.6) / len(bs_replicates)\n",
    "print ('Bootstrap mean:', np.mean(bs_replicates))\n",
    "print ('95% Confidence Interval:', confidence_interval)\n",
    "print ('p-value:', p_value,)\n",
    "\n",
    "# To try frequentist statistical testing\n",
    "from scipy import stats\n",
    "\n",
    "n = len(df.temperature)  # No. of observations\n",
    "μ = 98.6 # null-hypothesis of mean \n",
    "x̄ = np.mean(df.temperature) # sample mean\n",
    "s_x = np.std(df.temperature) # sample std\n",
    "\n",
    "#z = (x̄ – μ) / σ_x̄\n",
    "#z = (x̄ – μ) / (σ / √n) ; by central limit theorem\n",
    "z = (x̄ - μ)/s_x * np.sqrt(n) #approximately true for n>30, all of Z's are normally distributed\n",
    "\n",
    "pval_z= 2* (1-stats.norm.cdf(abs(z)))\n",
    "print('z-statistic: ',z, ' p-value: ', pval_z)\n",
    "\n",
    "t = (x̄ - μ)/s_x * np.sqrt(n)\n",
    "pval_t = 2* (1-stats.t.cdf(abs(t), n-1)) # degree of freedom = n-1\n",
    "print('t-statistic: ',t, ' p-value: ', pval_t)\n",
    "\n",
    "print('All p values are smaller than 0.05. Null hypothesis should be rejected such that the population mean is unlikely to be 98.6 degrees F.')"
   ]
  },
  {
   "cell_type": "markdown",
   "metadata": {},
   "source": [
    "Would you use a one-sample or two-sample test? Why? \n",
    "I would use one-sample test because I am not comparing parameters of two groups, but testing the mean of a single group against a known mean."
   ]
  },
  {
   "cell_type": "code",
   "execution_count": 136,
   "metadata": {},
   "outputs": [
    {
     "name": "stdout",
     "output_type": "stream",
     "text": [
      "t-statistic: -5.454823 , p-value: 0.000000\n"
     ]
    }
   ],
   "source": [
    "one_sample = stats.ttest_1samp(df.temperature, popmean=98.6)  #two-sided test for the null hypothesis that the expected mean of a sample of independent observations a is equal to the given population mean, popmean.\n",
    "print('t-statistic: %f , p-value: %f' % one_sample)"
   ]
  },
  {
   "cell_type": "markdown",
   "metadata": {},
   "source": [
    "In this situation, is it appropriate to use the  t or  z statistic? \n",
    "In this situation, the population variance is unknown and the sample size is larger than 30. t statistic is more appropriate for dataset with unknown population variance and sample size smaller than 30.  With large sample size in this case (n = 130), it can be assumed that the sample standard deviation is approximately equal to the population standard deviation, such that z-statistic is also appropriate in addition to t statistic."
   ]
  },
  {
   "cell_type": "code",
   "execution_count": 156,
   "metadata": {},
   "outputs": [
    {
     "name": "stdout",
     "output_type": "stream",
     "text": [
      "z-statistic:  -1.7986923354611244  p-value:  0.07206736200904884\n",
      "t-statistic:  -1.7986923354611244  p-value:  0.10560900499738168\n"
     ]
    }
   ],
   "source": [
    "# 4. Draw a small sample of size 10 from the data and repeat both frequentist tests.\n",
    "#Which one is the correct one to use?\n",
    "#What do you notice? What does this tell you about the difference in application of the  t and  z statistic?\n",
    "\n",
    "small_sample = np.random.choice(df.temperature, size=10)\n",
    "n = len(small_sample)  # No. of observations\n",
    "μ = 98.6 # null-hypothesis of mean \n",
    "x̄ = np.mean(small_sample) # sample mean\n",
    "s_x = np.std(small_sample) # sample std\n",
    "\n",
    "#z = (x̄ – μ) / σ_x̄\n",
    "#z = (x̄ – μ) / (σ / √n) ; by central limit theorem\n",
    "z = (x̄ - μ)/s_x * np.sqrt(n) #approximately true for n>30, all of Z's are normally distributed\n",
    "\n",
    "pval_z= 2* (1-stats.norm.cdf(abs(z)))\n",
    "print('z-statistic: ',z, ' p-value: ', pval_z)\n",
    "\n",
    "t = (x̄ - μ)/s_x * np.sqrt(n)\n",
    "pval_t = 2* (1-stats.t.cdf(abs(t), n-1)) # degree of freedom = n-1\n",
    "print('t-statistic: ',t, ' p-value: ', pval_t)\n"
   ]
  },
  {
   "cell_type": "markdown",
   "metadata": {},
   "source": [
    "t-statistic is the correct one to use in this case. It is because the sample size is smaller than 30, the assumption of sample variance is approximaetly equal to population variance for z-statistic is violated.\n",
    "\n",
    "z-statistic generated a smaller p value than t-statistic. It shows that using z-statistic is more likely to reject the hypothesis than the t-statistic when the sample size is small."
   ]
  },
  {
   "cell_type": "markdown",
   "metadata": {},
   "source": [
    "\n"
   ]
  },
  {
   "cell_type": "code",
   "execution_count": 173,
   "metadata": {},
   "outputs": [
    {
     "name": "stdout",
     "output_type": "stream",
     "text": [
      "Sample mean: 98.24923076923078\n",
      "95% Confidence Interval: [96.7225 99.4775]\n",
      "margin of error: 0.125550964802579\n",
      "Bootstrap Mean: 98.32999999999998\n",
      "95% Confidence Interval: [96.7 99.9]\n",
      "margin of error: 0.1252682737262985\n"
     ]
    }
   ],
   "source": [
    "# 5. At what temperature should we consider someone's temperature to be \"abnormal\"? \n",
    "# Try calculating everything using the boostrap approach, as well as the frequentist approach. \n",
    "# Start by computing the margin of error and confidence interval. \n",
    "# When calculating the confidence interval, keep in mind that you should use the appropriate formula for one draw, and not N draws.\n",
    "\n",
    "confidence_interval = np.percentile(df.temperature, [2.5, 97.5])\n",
    "std = np.std(df.temperature)\n",
    "n = len(df.temperature)\n",
    "\n",
    "#Margin of error = z-score * Standard error of the sample\n",
    "margin_of_error = 1.96 *std/np.sqrt(n) # z=1.96 for 95% confidence interval\n",
    "\n",
    "print ('Sample mean:', np.mean(df.temperature))\n",
    "print ('95% Confidence Interval:', confidence_interval)\n",
    "print ('margin of error:', margin_of_error)\n",
    "\n",
    "#One draw bootstrap:\n",
    "single_bs = np.random.choice(df.temperature, size=len(df.temperature))\n",
    "\n",
    "single_con_int = np.percentile(single_bs, [2.5, 97.5])\n",
    "std = np.std(single_bs)\n",
    "n = len(single_bs)\n",
    "margin_of_error = 1.96 *std/np.sqrt(n)\n",
    "\n",
    "print ('Bootstrap Mean:', np.mean(single_bs))\n",
    "print ('95% Confidence Interval:', single_con_int)\n",
    "print ('margin of error:', margin_of_error)\n"
   ]
  },
  {
   "cell_type": "code",
   "execution_count": 191,
   "metadata": {},
   "outputs": [
    {
     "name": "stdout",
     "output_type": "stream",
     "text": [
      "We consider someone's temperture, T is abnormal if T < 96.57 or T > 100.03 degrees F.\n"
     ]
    }
   ],
   "source": [
    "print( \"We consider someone's temperture, T is abnormal if T < %.2f or T > %.2f\" % (single_con_int[0]-margin_of_error, single_con_int[1]+margin_of_error), 'degrees F.')"
   ]
  },
  {
   "cell_type": "code",
   "execution_count": 169,
   "metadata": {},
   "outputs": [
    {
     "name": "stdout",
     "output_type": "stream",
     "text": [
      "t-statistic: 2.285435 , p-value: 0.023932\n"
     ]
    }
   ],
   "source": [
    "#6. Is there a significant difference between males and females in normal temperature?\n",
    "#What testing approach did you use and why?\n",
    "#Write a story with your conclusion in the context of the original problem.\n",
    "\n",
    "#To compare two groups, two-sample test can be used:\n",
    "f_temp = df[df.gender == 'F'].temperature\n",
    "m_temp = df[df.gender == 'M'].temperature\n",
    "\n",
    "#A two-sided test for the null hypothesis that 2 independent samples have identical average (expected) values\n",
    "# H0:  No difference between males and females in normal temperature\n",
    "# H1: Significant difference between males and females in normal temperature\n",
    "\n",
    "two_sample = stats.ttest_ind(f_temp, m_temp) \n",
    "print('t-statistic: %f , p-value: %f' % two_sample)"
   ]
  },
  {
   "cell_type": "markdown",
   "metadata": {},
   "source": [
    "p values is smaller than 0.05. Null hypothesis should be rejected such that there is a significant difference between males and females in normal temperature."
   ]
  },
  {
   "cell_type": "markdown",
   "metadata": {},
   "source": [
    "To conclude, the mean normal body temperature of 98.6$^{\\circ}$F reported by Carl Wunderlich in 1868 is not statistically correct.  The true population mean with 95% confidence interval shall be between 98.12 and 98.38 $^{\\circ}$F.  We consider someone's temperature to be \"abnormal\" if T < 96.57 or T > 100.03 $^{\\circ}$F. In addition, there is a significant difference between males and females in normal temperature."
   ]
  },
  {
   "cell_type": "code",
   "execution_count": null,
   "metadata": {},
   "outputs": [],
   "source": []
  }
 ],
 "metadata": {
  "kernelspec": {
   "display_name": "Python 3",
   "language": "python",
   "name": "python3"
  },
  "language_info": {
   "codemirror_mode": {
    "name": "ipython",
    "version": 3
   },
   "file_extension": ".py",
   "mimetype": "text/x-python",
   "name": "python",
   "nbconvert_exporter": "python",
   "pygments_lexer": "ipython3",
   "version": "3.6.5"
  }
 },
 "nbformat": 4,
 "nbformat_minor": 1
}
