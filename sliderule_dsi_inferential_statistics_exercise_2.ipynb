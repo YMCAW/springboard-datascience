{
 "cells": [
  {
   "cell_type": "markdown",
   "metadata": {},
   "source": [
    "# Examining Racial Discrimination in the US Job Market\n",
    "\n",
    "### Background\n",
    "Racial discrimination continues to be pervasive in cultures throughout the world. Researchers examined the level of racial discrimination in the United States labor market by randomly assigning identical résumés to black-sounding or white-sounding names and observing the impact on requests for interviews from employers.\n",
    "\n",
    "### Data\n",
    "In the dataset provided, each row represents a resume. The 'race' column has two values, 'b' and 'w', indicating black-sounding and white-sounding. The column 'call' has two values, 1 and 0, indicating whether the resume received a call from employers or not.\n",
    "\n",
    "Note that the 'b' and 'w' values in race are assigned randomly to the resumes when presented to the employer."
   ]
  },
  {
   "cell_type": "markdown",
   "metadata": {},
   "source": [
    "### Exercises\n",
    "You will perform a statistical analysis to establish whether race has a significant impact on the rate of callbacks for resumes.\n",
    "\n",
    "Answer the following questions **in this notebook below and submit to your Github account**. \n",
    "\n",
    "   1. What test is appropriate for this problem? Does CLT apply?\n",
    "   2. What are the null and alternate hypotheses?\n",
    "   3. Compute margin of error, confidence interval, and p-value. Try using both the bootstrapping and the frequentist statistical approaches.\n",
    "   4. Write a story describing the statistical significance in the context or the original problem.\n",
    "   5. Does your analysis mean that race/name is the most important factor in callback success? Why or why not? If not, how would you amend your analysis?\n",
    "\n",
    "You can include written notes in notebook cells using Markdown: \n",
    "   - In the control panel at the top, choose Cell > Cell Type > Markdown\n",
    "   - Markdown syntax: http://nestacms.com/docs/creating-content/markdown-cheat-sheet\n",
    "\n",
    "#### Resources\n",
    "+ Experiment information and data source: http://www.povertyactionlab.org/evaluation/discrimination-job-market-united-states\n",
    "+ Scipy statistical methods: http://docs.scipy.org/doc/scipy/reference/stats.html \n",
    "+ Markdown syntax: http://nestacms.com/docs/creating-content/markdown-cheat-sheet\n",
    "+ Formulas for the Bernoulli distribution: https://en.wikipedia.org/wiki/Bernoulli_distribution"
   ]
  },
  {
   "cell_type": "code",
   "execution_count": 20,
   "metadata": {},
   "outputs": [],
   "source": [
    "import pandas as pd\n",
    "import numpy as np\n",
    "from scipy import stats"
   ]
  },
  {
   "cell_type": "code",
   "execution_count": 21,
   "metadata": {},
   "outputs": [],
   "source": [
    "data = pd.io.stata.read_stata('/Users/ming/Downloads/EDA_racial_discrimination/data/us_job_market_discrimination.dta')"
   ]
  },
  {
   "cell_type": "code",
   "execution_count": 22,
   "metadata": {},
   "outputs": [
    {
     "data": {
      "text/plain": [
       "235.0"
      ]
     },
     "execution_count": 22,
     "metadata": {},
     "output_type": "execute_result"
    }
   ],
   "source": [
    "# number of callbacks for black-sounding names\n",
    "sum(data[data.race=='w'].call)"
   ]
  },
  {
   "cell_type": "code",
   "execution_count": 23,
   "metadata": {},
   "outputs": [
    {
     "data": {
      "text/html": [
       "<div>\n",
       "<style scoped>\n",
       "    .dataframe tbody tr th:only-of-type {\n",
       "        vertical-align: middle;\n",
       "    }\n",
       "\n",
       "    .dataframe tbody tr th {\n",
       "        vertical-align: top;\n",
       "    }\n",
       "\n",
       "    .dataframe thead th {\n",
       "        text-align: right;\n",
       "    }\n",
       "</style>\n",
       "<table border=\"1\" class=\"dataframe\">\n",
       "  <thead>\n",
       "    <tr style=\"text-align: right;\">\n",
       "      <th></th>\n",
       "      <th>id</th>\n",
       "      <th>ad</th>\n",
       "      <th>education</th>\n",
       "      <th>ofjobs</th>\n",
       "      <th>yearsexp</th>\n",
       "      <th>honors</th>\n",
       "      <th>volunteer</th>\n",
       "      <th>military</th>\n",
       "      <th>empholes</th>\n",
       "      <th>occupspecific</th>\n",
       "      <th>...</th>\n",
       "      <th>compreq</th>\n",
       "      <th>orgreq</th>\n",
       "      <th>manuf</th>\n",
       "      <th>transcom</th>\n",
       "      <th>bankreal</th>\n",
       "      <th>trade</th>\n",
       "      <th>busservice</th>\n",
       "      <th>othservice</th>\n",
       "      <th>missind</th>\n",
       "      <th>ownership</th>\n",
       "    </tr>\n",
       "  </thead>\n",
       "  <tbody>\n",
       "    <tr>\n",
       "      <th>0</th>\n",
       "      <td>b</td>\n",
       "      <td>1</td>\n",
       "      <td>4</td>\n",
       "      <td>2</td>\n",
       "      <td>6</td>\n",
       "      <td>0</td>\n",
       "      <td>0</td>\n",
       "      <td>0</td>\n",
       "      <td>1</td>\n",
       "      <td>17</td>\n",
       "      <td>...</td>\n",
       "      <td>1.0</td>\n",
       "      <td>0.0</td>\n",
       "      <td>1.0</td>\n",
       "      <td>0.0</td>\n",
       "      <td>0.0</td>\n",
       "      <td>0.0</td>\n",
       "      <td>0.0</td>\n",
       "      <td>0.0</td>\n",
       "      <td>0.0</td>\n",
       "      <td></td>\n",
       "    </tr>\n",
       "    <tr>\n",
       "      <th>1</th>\n",
       "      <td>b</td>\n",
       "      <td>1</td>\n",
       "      <td>3</td>\n",
       "      <td>3</td>\n",
       "      <td>6</td>\n",
       "      <td>0</td>\n",
       "      <td>1</td>\n",
       "      <td>1</td>\n",
       "      <td>0</td>\n",
       "      <td>316</td>\n",
       "      <td>...</td>\n",
       "      <td>1.0</td>\n",
       "      <td>0.0</td>\n",
       "      <td>1.0</td>\n",
       "      <td>0.0</td>\n",
       "      <td>0.0</td>\n",
       "      <td>0.0</td>\n",
       "      <td>0.0</td>\n",
       "      <td>0.0</td>\n",
       "      <td>0.0</td>\n",
       "      <td></td>\n",
       "    </tr>\n",
       "    <tr>\n",
       "      <th>2</th>\n",
       "      <td>b</td>\n",
       "      <td>1</td>\n",
       "      <td>4</td>\n",
       "      <td>1</td>\n",
       "      <td>6</td>\n",
       "      <td>0</td>\n",
       "      <td>0</td>\n",
       "      <td>0</td>\n",
       "      <td>0</td>\n",
       "      <td>19</td>\n",
       "      <td>...</td>\n",
       "      <td>1.0</td>\n",
       "      <td>0.0</td>\n",
       "      <td>1.0</td>\n",
       "      <td>0.0</td>\n",
       "      <td>0.0</td>\n",
       "      <td>0.0</td>\n",
       "      <td>0.0</td>\n",
       "      <td>0.0</td>\n",
       "      <td>0.0</td>\n",
       "      <td></td>\n",
       "    </tr>\n",
       "    <tr>\n",
       "      <th>3</th>\n",
       "      <td>b</td>\n",
       "      <td>1</td>\n",
       "      <td>3</td>\n",
       "      <td>4</td>\n",
       "      <td>6</td>\n",
       "      <td>0</td>\n",
       "      <td>1</td>\n",
       "      <td>0</td>\n",
       "      <td>1</td>\n",
       "      <td>313</td>\n",
       "      <td>...</td>\n",
       "      <td>1.0</td>\n",
       "      <td>0.0</td>\n",
       "      <td>1.0</td>\n",
       "      <td>0.0</td>\n",
       "      <td>0.0</td>\n",
       "      <td>0.0</td>\n",
       "      <td>0.0</td>\n",
       "      <td>0.0</td>\n",
       "      <td>0.0</td>\n",
       "      <td></td>\n",
       "    </tr>\n",
       "    <tr>\n",
       "      <th>4</th>\n",
       "      <td>b</td>\n",
       "      <td>1</td>\n",
       "      <td>3</td>\n",
       "      <td>3</td>\n",
       "      <td>22</td>\n",
       "      <td>0</td>\n",
       "      <td>0</td>\n",
       "      <td>0</td>\n",
       "      <td>0</td>\n",
       "      <td>313</td>\n",
       "      <td>...</td>\n",
       "      <td>1.0</td>\n",
       "      <td>1.0</td>\n",
       "      <td>0.0</td>\n",
       "      <td>0.0</td>\n",
       "      <td>0.0</td>\n",
       "      <td>0.0</td>\n",
       "      <td>0.0</td>\n",
       "      <td>1.0</td>\n",
       "      <td>0.0</td>\n",
       "      <td>Nonprofit</td>\n",
       "    </tr>\n",
       "  </tbody>\n",
       "</table>\n",
       "<p>5 rows × 65 columns</p>\n",
       "</div>"
      ],
      "text/plain": [
       "  id ad  education  ofjobs  yearsexp  honors  volunteer  military  empholes  \\\n",
       "0  b  1          4       2         6       0          0         0         1   \n",
       "1  b  1          3       3         6       0          1         1         0   \n",
       "2  b  1          4       1         6       0          0         0         0   \n",
       "3  b  1          3       4         6       0          1         0         1   \n",
       "4  b  1          3       3        22       0          0         0         0   \n",
       "\n",
       "   occupspecific    ...      compreq  orgreq  manuf  transcom  bankreal trade  \\\n",
       "0             17    ...          1.0     0.0    1.0       0.0       0.0   0.0   \n",
       "1            316    ...          1.0     0.0    1.0       0.0       0.0   0.0   \n",
       "2             19    ...          1.0     0.0    1.0       0.0       0.0   0.0   \n",
       "3            313    ...          1.0     0.0    1.0       0.0       0.0   0.0   \n",
       "4            313    ...          1.0     1.0    0.0       0.0       0.0   0.0   \n",
       "\n",
       "  busservice othservice  missind  ownership  \n",
       "0        0.0        0.0      0.0             \n",
       "1        0.0        0.0      0.0             \n",
       "2        0.0        0.0      0.0             \n",
       "3        0.0        0.0      0.0             \n",
       "4        0.0        1.0      0.0  Nonprofit  \n",
       "\n",
       "[5 rows x 65 columns]"
      ]
     },
     "execution_count": 23,
     "metadata": {},
     "output_type": "execute_result"
    }
   ],
   "source": [
    "data.head()"
   ]
  },
  {
   "cell_type": "markdown",
   "metadata": {
    "collapsed": true
   },
   "source": [
    "<div class=\"span5 alert alert-success\">\n",
    "<p>Your answers to Q1 and Q2 here</p>\n",
    "</div>"
   ]
  },
  {
   "cell_type": "markdown",
   "metadata": {},
   "source": [
    "Q1: What test is appropriate for this problem? Does CLT apply?\n",
    "What are the null and alternate hypotheses?"
   ]
  },
  {
   "cell_type": "code",
   "execution_count": 126,
   "metadata": {},
   "outputs": [
    {
     "name": "stdout",
     "output_type": "stream",
     "text": [
      "No. of observations for white-sounding names: 2435\n",
      "No. of observations for black-sounding names: 2435\n"
     ]
    }
   ],
   "source": [
    "w = data[data.race=='w']\n",
    "b = data[data.race=='b']\n",
    "print('No. of observations for white-sounding names:', len(w))\n",
    "print('No. of observations for black-sounding names:', len(b))"
   ]
  },
  {
   "cell_type": "markdown",
   "metadata": {},
   "source": [
    "This is a Bernoulli distribution type of problem. To establish whether race has a significant impact on the rate of callbacks for resumes, z statistic is appropiate because the sample size (2435 observations per race) is large enough and Central Limit Theorem (CLT) applys."
   ]
  },
  {
   "cell_type": "markdown",
   "metadata": {},
   "source": [
    "Q2. What are the null and alternate hypotheses?\n",
    "\n",
    "H0: proportion difference of callbacks between black-sounding or white-sounding names = 0\n",
    "\n",
    "H1: proportion difference of callbacks between black-sounding or white-sounding names != 0"
   ]
  },
  {
   "cell_type": "markdown",
   "metadata": {},
   "source": [
    "Q3. Compute margin of error, confidence interval, and p-value. Try using both the bootstrapping and the frequentist statistical approaches."
   ]
  },
  {
   "cell_type": "code",
   "execution_count": 124,
   "metadata": {},
   "outputs": [
    {
     "name": "stdout",
     "output_type": "stream",
     "text": [
      "Sample proportion of callbacks for white-sounding names: 0.0965\n",
      "Sample proportion of callbacks for black-sounding names: 0.0645\n",
      "Sample proportion difference: 0.032032854209445585\n",
      "Margin of error 0.0153\n",
      "95% Confidence Interval: [0.016777447859559147, 0.047288260559332024]\n",
      "z-statistic:  4.108412152434346  p-value:  3.983886837577444e-05\n",
      "There is 95% chance that the true difference of proportion is within 0.0153 of the sample proportions difference 0.0320 such that the true proportion of callbacks for white-sounding names is higher than the black-sounding names by 0.0168 to 0.0473\n",
      "Bootstrapped mean of proportion difference: 0.03205388102196157\n",
      "Bootstrapped Margin of error 0.0151\n",
      "Bootstrapped 95% Confidence Interval: [0.01683778 0.04722793]\n",
      "z-statistic:  4.111108971503381  p-value:  3.937632930162138e-05\n"
     ]
    }
   ],
   "source": [
    "# Your solution to Q3 here\n",
    "\n",
    "# Significant _Level = 0.05\n",
    "# sample proportion of resume received a call\n",
    "p_w = sum(w.call==1)/len(w.call)\n",
    "p_b = sum(b.call==1)/len(b.call)\n",
    "p_diff = p_w - p_b\n",
    "print('Sample proportion of callbacks for white-sounding names: %.4f' %p_w)\n",
    "print('Sample proportion of callbacks for black-sounding names: %.4f' %p_b)\n",
    "print ('Sample proportion difference:', p_diff)\n",
    "\n",
    "# sample proportion is approximaetly equal to real proportion because the sample size is large\n",
    "# sample variance:-\n",
    "var_w = (p_w * (1-p_w))/len(w.call) \n",
    "var_b = (p_b * (1-p_b))/len(b.call) \n",
    "# std of sample propotion difference:\n",
    "std_diff = np.sqrt(var_w + var_b)\n",
    "\n",
    "# with 95% CI, margin of error, distance from real proportion difference\n",
    "m_e=1.96*std_diff # z=1.96 for 95% confidence interval\n",
    "print('Margin of error %.4f' % m_e)\n",
    "confidence_interval = [p_diff-m_e, p_diff+m_e]\n",
    "print ('95% Confidence Interval:',  confidence_interval)\n",
    "# assumed H0 is correct such that p = p_a = p_b\n",
    "μ_diff = 0 # null-hypothesis of mean \n",
    "p = (sum(w.call==1)+ sum(b.call==1))/(len(w.call) +len(b.call))\n",
    "var_w = (p * (1-p))/len(w.call) \n",
    "var_b = (p * (1-p))/len(b.call) \n",
    "# std of sample propotion difference:\n",
    "σ_diff = np.sqrt(var_w + var_b)\n",
    "\n",
    "z = (p_diff - μ_diff) / σ_diff\n",
    "pval_z= 2* (1-stats.norm.cdf(abs(z)))\n",
    "print('z-statistic: ',z, ' p-value: ', pval_z)\n",
    "print('There is 95% chance that', 'the true difference of proportion is within %.4f of the sample proportions difference %.4f' %(m_e,p_diff),  'such that the true proportion of callbacks for white-sounding names is higher than the black-sounding names by %.4f to %.4f' %(p_diff-m_e, p_diff+m_e))\n",
    "\n",
    "# To try bootstrap hypothesis test with 10,000 replicates\n",
    "def bootstrap_replicate(data, func):\n",
    "    \"\"\"Generate bootstrap replicate of data.\"\"\"\n",
    "    bs_sample = np.random.choice(data, size=len(data))\n",
    "    return func(bs_sample)\n",
    "\n",
    "bs_w = np.empty(10000)\n",
    "bs_b = np.empty(10000)\n",
    "bs_diff = np.empty(10000)\n",
    "\n",
    "for i in range(10000):\n",
    "    bs_w[i] = bootstrap_replicate(w.call, np.mean)\n",
    "    bs_b[i] = bootstrap_replicate(b.call, np.mean)\n",
    "    bs_diff[i] = bs_w[i] - bs_b[i]\n",
    "\n",
    "print ('Bootstrapped mean of proportion difference:', np.mean(bs_diff))\n",
    "\n",
    "bootstrapped_SE = np.std(bs_diff)\n",
    "#Margin of error = z-score * Standard error of the sample\n",
    "m_e = 1.96 * bootstrapped_SE # z=1.96 for 95% confidence interval\n",
    "print('Bootstrapped Margin of error %.4f' % m_e)\n",
    "\n",
    "confidence_interval = np.percentile(bs_diff, [2.5, 97.5])\n",
    "z = (np.mean(bs_diff) - μ_diff) / σ_diff\n",
    "pval_z= 2* (1-stats.norm.cdf(abs(z)))\n",
    "print ('Bootstrapped 95% Confidence Interval:',  confidence_interval)\n",
    "print('z-statistic: ',z, ' p-value: ', pval_z)"
   ]
  },
  {
   "cell_type": "markdown",
   "metadata": {},
   "source": [
    "<div class=\"span5 alert alert-success\">\n",
    "<p> Your answers to Q4 and Q5 here </p>\n",
    "</div>"
   ]
  },
  {
   "cell_type": "markdown",
   "metadata": {},
   "source": [
    "Q4: Write a story describing the statistical significance in the context or the original problem."
   ]
  },
  {
   "cell_type": "markdown",
   "metadata": {},
   "source": [
    "By randomly assigning identical résumés to black-sounding or white-sounding names and observing the impact on requests for interviews from employers, the level of racial discrimination in the United States job market was examined. With 2435 observations per race, it was found that the proportion of callbacks for white-sounding names (9.65%) is approximately 50% higher than the black-sounding names (6.45%). \n",
    "\n",
    "A z statistic test was conducted to estimate the statistic significance of the proportion difference of callbacks between black-sounding or white-sounding names. Null hypothesis, H0 is that the proportion difference equals to zero. Alternative hypothesis H1 is that the proportion difference does not equal to zero. The significant level used is of 0.05. \n",
    "\n",
    "The z test results that the p value generated for the sample with and without boostrapping are 3.98e-05 and 3.94e-05 respectively. Both p values are lower than the significant level, so both suggests the null hypothesis should be rejected. In other words, there is statistically significant proportion difference between black-sounding and white-sounding names to receive callbacks from employers.\n",
    "\n",
    "Besides, there is 95% chance that the true proportion difference is within 0.0153 of the sample proportion difference 0.0320 such that the true proportion of callbacks for white-sounding names is higher than the black-sounding names by 0.0168 to 0.0473.\n",
    "\n",
    "To conclude, all statistical approaches result that statistically significant difference is present in receving callbacks between black-sounding and white-sounding names.  This indicates racial discrimination may be pervaded the job market, and the white candidates have higher proportion on receiving callbacks than black candidates.\n"
   ]
  },
  {
   "cell_type": "markdown",
   "metadata": {},
   "source": [
    "Q5: Does your analysis mean that race/name is the most important factor in callback success? Why or why not? If not, how would you amend your analysis?"
   ]
  },
  {
   "cell_type": "markdown",
   "metadata": {},
   "source": [
    "My analysis does not mean that race/name is the most important factor in callbacks success, it is because it only analysed the relationship between callbacks success and race/name without considering other variables such as education and experience.  In order to find the most important factor in callback success, the correlation between the callback success and other variables shall be estimated.  The statistical significance of the factors with high correlation with the callback success shall be determined. \n"
   ]
  },
  {
   "cell_type": "markdown",
   "metadata": {},
   "source": [
    "Reference:\n",
    "https://www.khanacademy.org/math/statistics-probability/confidence-intervals-one-sample/estimating-population-proportion/v/margin-of-error-1\n",
    "https://www.statisticssolutions.com/how-does-margin-of-error-work/\n",
    "https://www.dummies.com/education/science/biology/the-bootstrap-method-for-standard-errors-and-confidence-intervals/"
   ]
  },
  {
   "cell_type": "code",
   "execution_count": null,
   "metadata": {},
   "outputs": [],
   "source": []
  }
 ],
 "metadata": {
  "kernelspec": {
   "display_name": "Python 3",
   "language": "python",
   "name": "python3"
  },
  "language_info": {
   "codemirror_mode": {
    "name": "ipython",
    "version": 3
   },
   "file_extension": ".py",
   "mimetype": "text/x-python",
   "name": "python",
   "nbconvert_exporter": "python",
   "pygments_lexer": "ipython3",
   "version": "3.6.5"
  }
 },
 "nbformat": 4,
 "nbformat_minor": 1
}
